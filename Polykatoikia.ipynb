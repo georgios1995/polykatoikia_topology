{
 "cells": [
  {
   "cell_type": "code",
   "execution_count": null,
   "metadata": {},
   "outputs": [],
   "source": [
    "pip install topologicpy --upgrade"
   ]
  },
  {
   "cell_type": "code",
   "execution_count": 85,
   "metadata": {},
   "outputs": [
    {
     "name": "stdout",
     "output_type": "stream",
     "text": [
      "Requirement already satisfied: nbformat in ./.venv/lib/python3.12/site-packages (5.10.4)\n",
      "Requirement already satisfied: fastjsonschema>=2.15 in ./.venv/lib/python3.12/site-packages (from nbformat) (2.20.0)\n",
      "Requirement already satisfied: jsonschema>=2.6 in ./.venv/lib/python3.12/site-packages (from nbformat) (4.23.0)\n",
      "Requirement already satisfied: jupyter-core!=5.0.*,>=4.12 in ./.venv/lib/python3.12/site-packages (from nbformat) (5.7.2)\n",
      "Requirement already satisfied: traitlets>=5.1 in ./.venv/lib/python3.12/site-packages (from nbformat) (5.14.3)\n",
      "Requirement already satisfied: attrs>=22.2.0 in ./.venv/lib/python3.12/site-packages (from jsonschema>=2.6->nbformat) (23.2.0)\n",
      "Requirement already satisfied: jsonschema-specifications>=2023.03.6 in ./.venv/lib/python3.12/site-packages (from jsonschema>=2.6->nbformat) (2023.12.1)\n",
      "Requirement already satisfied: referencing>=0.28.4 in ./.venv/lib/python3.12/site-packages (from jsonschema>=2.6->nbformat) (0.35.1)\n",
      "Requirement already satisfied: rpds-py>=0.7.1 in ./.venv/lib/python3.12/site-packages (from jsonschema>=2.6->nbformat) (0.20.0)\n",
      "Requirement already satisfied: platformdirs>=2.5 in ./.venv/lib/python3.12/site-packages (from jupyter-core!=5.0.*,>=4.12->nbformat) (4.2.2)\n",
      "Note: you may need to restart the kernel to use updated packages.\n"
     ]
    }
   ],
   "source": [
    "pip install nbformat"
   ]
  },
  {
   "cell_type": "code",
   "execution_count": 87,
   "metadata": {},
   "outputs": [
    {
     "name": "stdout",
     "output_type": "stream",
     "text": [
      "Collecting matplotlib\n",
      "  Downloading matplotlib-3.9.2-cp312-cp312-macosx_11_0_arm64.whl.metadata (11 kB)\n",
      "Collecting contourpy>=1.0.1 (from matplotlib)\n",
      "  Using cached contourpy-1.2.1-cp312-cp312-macosx_11_0_arm64.whl.metadata (5.8 kB)\n",
      "Collecting cycler>=0.10 (from matplotlib)\n",
      "  Using cached cycler-0.12.1-py3-none-any.whl.metadata (3.8 kB)\n",
      "Collecting fonttools>=4.22.0 (from matplotlib)\n",
      "  Downloading fonttools-4.53.1-cp312-cp312-macosx_11_0_arm64.whl.metadata (162 kB)\n",
      "Collecting kiwisolver>=1.3.1 (from matplotlib)\n",
      "  Using cached kiwisolver-1.4.5-cp312-cp312-macosx_11_0_arm64.whl.metadata (6.4 kB)\n",
      "Requirement already satisfied: numpy>=1.23 in ./.venv/lib/python3.12/site-packages (from matplotlib) (2.1.0)\n",
      "Requirement already satisfied: packaging>=20.0 in ./.venv/lib/python3.12/site-packages (from matplotlib) (24.1)\n",
      "Collecting pillow>=8 (from matplotlib)\n",
      "  Downloading pillow-10.4.0-cp312-cp312-macosx_11_0_arm64.whl.metadata (9.2 kB)\n",
      "Collecting pyparsing>=2.3.1 (from matplotlib)\n",
      "  Using cached pyparsing-3.1.2-py3-none-any.whl.metadata (5.1 kB)\n",
      "Requirement already satisfied: python-dateutil>=2.7 in ./.venv/lib/python3.12/site-packages (from matplotlib) (2.9.0.post0)\n",
      "Requirement already satisfied: six>=1.5 in ./.venv/lib/python3.12/site-packages (from python-dateutil>=2.7->matplotlib) (1.16.0)\n",
      "Downloading matplotlib-3.9.2-cp312-cp312-macosx_11_0_arm64.whl (7.8 MB)\n",
      "\u001b[2K   \u001b[90m━━━━━━━━━━━━━━━━━━━━━━━━━━━━━━━━━━━━━━━━\u001b[0m \u001b[32m7.8/7.8 MB\u001b[0m \u001b[31m3.9 MB/s\u001b[0m eta \u001b[36m0:00:00\u001b[0m00:01\u001b[0m00:01\u001b[0m0m\n",
      "\u001b[?25hUsing cached contourpy-1.2.1-cp312-cp312-macosx_11_0_arm64.whl (245 kB)\n",
      "Using cached cycler-0.12.1-py3-none-any.whl (8.3 kB)\n",
      "Downloading fonttools-4.53.1-cp312-cp312-macosx_11_0_arm64.whl (2.2 MB)\n",
      "\u001b[2K   \u001b[90m━━━━━━━━━━━━━━━━━━━━━━━━━━━━━━━━━━━━━━━━\u001b[0m \u001b[32m2.2/2.2 MB\u001b[0m \u001b[31m3.9 MB/s\u001b[0m eta \u001b[36m0:00:00\u001b[0ma \u001b[36m0:00:01\u001b[0m\n",
      "\u001b[?25hUsing cached kiwisolver-1.4.5-cp312-cp312-macosx_11_0_arm64.whl (64 kB)\n",
      "Downloading pillow-10.4.0-cp312-cp312-macosx_11_0_arm64.whl (3.4 MB)\n",
      "\u001b[2K   \u001b[90m━━━━━━━━━━━━━━━━━━━━━━━━━━━━━━━━━━━━━━━━\u001b[0m \u001b[32m3.4/3.4 MB\u001b[0m \u001b[31m4.0 MB/s\u001b[0m eta \u001b[36m0:00:00\u001b[0ma \u001b[36m0:00:01\u001b[0m\n",
      "\u001b[?25hUsing cached pyparsing-3.1.2-py3-none-any.whl (103 kB)\n",
      "Installing collected packages: pyparsing, pillow, kiwisolver, fonttools, cycler, contourpy, matplotlib\n",
      "Successfully installed contourpy-1.2.1 cycler-0.12.1 fonttools-4.53.1 kiwisolver-1.4.5 matplotlib-3.9.2 pillow-10.4.0 pyparsing-3.1.2\n",
      "Note: you may need to restart the kernel to use updated packages.\n"
     ]
    }
   ],
   "source": [
    "pip install matplotlib"
   ]
  },
  {
   "cell_type": "code",
   "execution_count": null,
   "metadata": {},
   "outputs": [],
   "source": [
    "pip install pydot"
   ]
  },
  {
   "cell_type": "code",
   "execution_count": 154,
   "metadata": {},
   "outputs": [
    {
     "name": "stdout",
     "output_type": "stream",
     "text": [
      "Requirement already satisfied: pandas in ./.venv/lib/python3.12/site-packages (2.2.2)\n",
      "Requirement already satisfied: numpy>=1.26.0 in ./.venv/lib/python3.12/site-packages (from pandas) (2.1.0)\n",
      "Requirement already satisfied: python-dateutil>=2.8.2 in ./.venv/lib/python3.12/site-packages (from pandas) (2.9.0.post0)\n",
      "Requirement already satisfied: pytz>=2020.1 in ./.venv/lib/python3.12/site-packages (from pandas) (2024.1)\n",
      "Requirement already satisfied: tzdata>=2022.7 in ./.venv/lib/python3.12/site-packages (from pandas) (2024.1)\n",
      "Requirement already satisfied: six>=1.5 in ./.venv/lib/python3.12/site-packages (from python-dateutil>=2.8.2->pandas) (1.16.0)\n",
      "Note: you may need to restart the kernel to use updated packages.\n"
     ]
    }
   ],
   "source": [
    "pip install pandas"
   ]
  },
  {
   "cell_type": "code",
   "execution_count": 155,
   "metadata": {},
   "outputs": [],
   "source": [
    "import topologicpy\n",
    "import json\n",
    "import networkx as nx\n",
    "import matplotlib.pyplot as plt\n",
    "import pandas as pd"
   ]
  },
  {
   "cell_type": "code",
   "execution_count": 138,
   "metadata": {},
   "outputs": [],
   "source": [
    "from topologicpy.Topology import Topology\n",
    "from topologicpy.Cell import Cell\n",
    "from topologicpy.Graph import Graph\n",
    "from topologicpy.Vertex import Vertex\n",
    "from topologicpy.Edge import Edge\n",
    "from topologicpy.Dictionary import Dictionary"
   ]
  },
  {
   "cell_type": "code",
   "execution_count": 76,
   "metadata": {},
   "outputs": [],
   "source": [
    "# Import the graph json\n",
    "with open(\"graph.json\") as json_data:\n",
    "    graph_json = json.load(json_data)"
   ]
  },
  {
   "cell_type": "code",
   "execution_count": 176,
   "metadata": {},
   "outputs": [],
   "source": [
    "# Export Vertices with dictionaries\n",
    "vertices = graph_json[\"vertices\"]\n",
    "df_vertices= pd.DataFrame(vertices)\n",
    "\n",
    "verticesKeys= list(vertices.keys())\n",
    "\n",
    "# Create topologic_core.Vertex\n",
    "graph_vertices=[]\n",
    "\n",
    "for v in verticesKeys:\n",
    "    X = vertices[v][\"x\"]\n",
    "    Y = vertices[v][\"y\"]\n",
    "    Z = vertices[v][\"z\"]\n",
    "    \n",
    "    vertex = Vertex.ByCoordinates(x = X, y = Y, z = Z)\n",
    "    \n",
    "    dictionary = Dictionary.ByKeysValues(keys = [\"id\",\"location\",\"orientation\",\"profile_dim\"], values = list(df_vertices[v][[\"id\",\"location\",\"orientation\",\"profile_dim\"]]))\n",
    "    dict_vertex = Topology.SetDictionary(vertex, dictionary)\n",
    "    \n",
    "    graph_vertices.append(dict_vertex)\n",
    "    vertices[v][\"topologic_Vertex\"] = dict_vertex\n",
    "\n",
    "# Export Edges with dictionaries\n",
    "edges = graph_json[\"edges\"]\n",
    "# print(edges)\n",
    "edgesKeys = list(edges.keys())\n",
    "\n",
    "# Create topologic_core.Edge\n",
    "graph_edges = []\n",
    "\n",
    "for e in edgesKeys:\n",
    "    start = vertices[edges[e][\"source\"]][\"topologic_Vertex\"]\n",
    "    end = vertices[edges[e][\"target\"]][\"topologic_Vertex\"]\n",
    "    \n",
    "    edge = Edge.ByVertices([start,end])\n",
    "    \n",
    "    graph_edges.append(edge)\n",
    "    edges[e][\"topologic_Edge\"] = edge\n",
    "\n"
   ]
  },
  {
   "cell_type": "code",
   "execution_count": 163,
   "metadata": {},
   "outputs": [
    {
     "data": {
      "text/plain": [
       "'horizontal'"
      ]
     },
     "execution_count": 163,
     "metadata": {},
     "output_type": "execute_result"
    }
   ],
   "source": [
    "v = Topology.Dictionary(vertices[\"Vertex_0001\"][\"topologic_Vertex\"])\n",
    "Dictionary.ValueAtKey(v,\"orientation\")"
   ]
  },
  {
   "cell_type": "code",
   "execution_count": 167,
   "metadata": {},
   "outputs": [
    {
     "name": "stdout",
     "output_type": "stream",
     "text": [
      "<topologic_core.Graph object at 0x11fef7b30>\n"
     ]
    },
    {
     "data": {
      "application/vnd.plotly.v1+json": {
       "config": {
        "plotlyServerURL": "https://plot.ly"
       },
       "data": [
        {
         "hoverinfo": "text",
         "legendgroup": "4",
         "legendrank": 4,
         "marker": {
          "color": [
           "white",
           "red",
           "red",
           "red",
           "red",
           "red",
           "white",
           "red",
           "red",
           "white",
           "white",
           "red",
           "white",
           "red",
           "white",
           "white",
           "red",
           "white",
           "red",
           "white",
           "red",
           "red",
           "red",
           "red",
           "white",
           "red",
           "white",
           "white",
           "red",
           "red",
           "white",
           "red",
           "red",
           "red",
           "red",
           "white",
           "white",
           "white",
           "red",
           "white",
           "white",
           "red",
           "white",
           "red",
           "red",
           "red",
           "red",
           "red",
           "white"
          ],
          "colorscale": [
           [
            0,
            "#440154"
           ],
           [
            0.1111111111111111,
            "#482878"
           ],
           [
            0.2222222222222222,
            "#3e4989"
           ],
           [
            0.3333333333333333,
            "#31688e"
           ],
           [
            0.4444444444444444,
            "#26828e"
           ],
           [
            0.5555555555555556,
            "#1f9e89"
           ],
           [
            0.6666666666666666,
            "#35b779"
           ],
           [
            0.7777777777777778,
            "#6ece58"
           ],
           [
            0.8888888888888888,
            "#b5de2b"
           ],
           [
            1,
            "#fde725"
           ]
          ],
          "line": {
           "color": "white",
           "width": 0.5
          },
          "size": 6,
          "symbol": "circle"
         },
         "mode": "markers",
         "name": "Graph Vertices",
         "showlegend": false,
         "text": "",
         "type": "scatter3d",
         "x": [
          4,
          7,
          0,
          2,
          0,
          5.5,
          0,
          7,
          5.5,
          7,
          2,
          4,
          0,
          0,
          7,
          4,
          2,
          4,
          2,
          4,
          0,
          0,
          4,
          5.5,
          7,
          13,
          4,
          7,
          5.5,
          10,
          13,
          7,
          13,
          14.5,
          13,
          13,
          16,
          13,
          10,
          13,
          16,
          16,
          16,
          16,
          14.5,
          16,
          14.5,
          14.5,
          16
         ],
         "y": [
          1.965,
          3.93,
          1.965,
          3.93,
          0,
          3.93,
          3.93,
          5.895,
          0,
          0,
          0,
          5.895,
          7.86,
          11.79,
          1.965,
          7.86,
          11.79,
          0,
          7.86,
          3.93,
          9.825,
          5.895,
          9.825,
          7.86,
          11.79,
          9.825,
          11.79,
          7.86,
          11.79,
          3.93,
          3.93,
          9.825,
          5.895,
          3.93,
          1.965,
          7.86,
          3.93,
          0,
          7.86,
          11.79,
          0,
          1.965,
          7.86,
          5.895,
          7.86,
          9.825,
          0,
          11.79,
          11.79
         ],
         "z": [
          5.125,
          2.625,
          5.125,
          5.125,
          2.625,
          5.125,
          2.625,
          5.125,
          5.125,
          2.625,
          5.125,
          5.125,
          2.625,
          2.625,
          5.125,
          2.625,
          5.125,
          2.625,
          5.125,
          2.625,
          5.125,
          5.125,
          5.125,
          5.125,
          2.625,
          5.125,
          2.625,
          2.625,
          5.125,
          5.125,
          2.625,
          5.125,
          5.125,
          5.125,
          5.125,
          2.625,
          2.625,
          2.625,
          5.125,
          2.625,
          2.625,
          5.125,
          2.625,
          5.125,
          5.125,
          5.125,
          5.125,
          5.125,
          2.625
         ]
        },
        {
         "hoverinfo": "text",
         "legendgroup": "5",
         "legendrank": 5,
         "line": {
          "color": "white",
          "width": 1
         },
         "mode": "lines",
         "name": "Graph Edges",
         "showlegend": false,
         "text": "",
         "type": "scatter3d",
         "x": [
          4,
          4,
          null,
          4,
          4,
          null,
          7,
          10,
          null,
          7,
          7,
          null,
          7,
          7,
          null,
          5.5,
          7,
          null,
          0,
          0,
          null,
          0,
          0,
          null,
          0,
          2,
          null,
          2,
          4,
          null,
          0,
          2,
          null,
          4,
          5.5,
          null,
          0,
          0,
          null,
          7,
          7,
          null,
          4,
          5.5,
          null,
          5.5,
          7,
          null,
          7,
          7,
          null,
          2,
          4,
          null,
          4,
          4,
          null,
          4,
          4,
          null,
          0,
          2,
          null,
          0,
          0,
          null,
          0,
          0,
          null,
          0,
          2,
          null,
          0,
          0,
          null,
          2,
          4,
          null,
          4,
          5.5,
          null,
          4,
          4,
          null,
          2,
          4,
          null,
          4,
          4,
          null,
          5.5,
          7,
          null,
          7,
          7,
          null,
          5.5,
          7,
          null,
          13,
          13,
          null,
          13,
          13,
          null,
          4,
          5.5,
          null,
          7,
          7,
          null,
          7,
          10,
          null,
          10,
          13,
          null,
          13,
          14.5,
          null,
          13,
          13,
          null,
          13,
          13,
          null,
          13,
          13,
          null,
          14.5,
          16,
          null,
          13,
          13,
          null,
          13,
          14.5,
          null,
          10,
          13,
          null,
          16,
          16,
          null,
          16,
          16,
          null,
          13,
          14.5,
          null,
          13,
          14.5,
          null,
          16,
          16,
          null,
          14.5,
          16,
          null,
          16,
          16,
          null,
          14.5,
          16,
          null,
          16,
          16,
          null,
          16,
          16,
          null,
          14.5,
          16,
          null
         ],
         "y": [
          0,
          1.965,
          null,
          1.965,
          3.93,
          null,
          3.93,
          3.93,
          null,
          1.965,
          3.93,
          null,
          3.93,
          5.895,
          null,
          3.93,
          3.93,
          null,
          1.965,
          3.93,
          null,
          0,
          1.965,
          null,
          3.93,
          3.93,
          null,
          3.93,
          3.93,
          null,
          0,
          0,
          null,
          3.93,
          3.93,
          null,
          3.93,
          5.895,
          null,
          5.895,
          7.86,
          null,
          0,
          0,
          null,
          0,
          0,
          null,
          0,
          1.965,
          null,
          0,
          0,
          null,
          5.895,
          7.86,
          null,
          3.93,
          5.895,
          null,
          7.86,
          7.86,
          null,
          7.86,
          9.825,
          null,
          5.895,
          7.86,
          null,
          11.79,
          11.79,
          null,
          9.825,
          11.79,
          null,
          7.86,
          7.86,
          null,
          7.86,
          7.86,
          null,
          7.86,
          9.825,
          null,
          11.79,
          11.79,
          null,
          9.825,
          11.79,
          null,
          7.86,
          7.86,
          null,
          9.825,
          11.79,
          null,
          11.79,
          11.79,
          null,
          7.86,
          9.825,
          null,
          9.825,
          11.79,
          null,
          11.79,
          11.79,
          null,
          7.86,
          9.825,
          null,
          7.86,
          7.86,
          null,
          3.93,
          3.93,
          null,
          3.93,
          3.93,
          null,
          3.93,
          5.895,
          null,
          3.93,
          1.965,
          null,
          5.895,
          7.86,
          null,
          3.93,
          3.93,
          null,
          1.965,
          0,
          null,
          7.86,
          7.86,
          null,
          7.86,
          7.86,
          null,
          3.93,
          1.965,
          null,
          3.93,
          5.895,
          null,
          0,
          0,
          null,
          11.79,
          11.79,
          null,
          1.965,
          0,
          null,
          0,
          0,
          null,
          7.86,
          9.825,
          null,
          7.86,
          7.86,
          null,
          5.895,
          7.86,
          null,
          9.825,
          11.79,
          null,
          11.79,
          11.79,
          null
         ],
         "z": [
          2.625,
          5.125,
          null,
          5.125,
          2.625,
          null,
          2.625,
          5.125,
          null,
          5.125,
          2.625,
          null,
          2.625,
          5.125,
          null,
          5.125,
          2.625,
          null,
          5.125,
          2.625,
          null,
          2.625,
          5.125,
          null,
          2.625,
          5.125,
          null,
          5.125,
          2.625,
          null,
          2.625,
          5.125,
          null,
          2.625,
          5.125,
          null,
          2.625,
          5.125,
          null,
          5.125,
          2.625,
          null,
          2.625,
          5.125,
          null,
          5.125,
          2.625,
          null,
          2.625,
          5.125,
          null,
          5.125,
          2.625,
          null,
          5.125,
          2.625,
          null,
          2.625,
          5.125,
          null,
          2.625,
          5.125,
          null,
          2.625,
          5.125,
          null,
          5.125,
          2.625,
          null,
          2.625,
          5.125,
          null,
          5.125,
          2.625,
          null,
          5.125,
          2.625,
          null,
          2.625,
          5.125,
          null,
          2.625,
          5.125,
          null,
          5.125,
          2.625,
          null,
          5.125,
          2.625,
          null,
          5.125,
          2.625,
          null,
          5.125,
          2.625,
          null,
          5.125,
          2.625,
          null,
          2.625,
          5.125,
          null,
          5.125,
          2.625,
          null,
          2.625,
          5.125,
          null,
          2.625,
          5.125,
          null,
          2.625,
          5.125,
          null,
          5.125,
          2.625,
          null,
          2.625,
          5.125,
          null,
          2.625,
          5.125,
          null,
          2.625,
          5.125,
          null,
          5.125,
          2.625,
          null,
          5.125,
          2.625,
          null,
          5.125,
          2.625,
          null,
          2.625,
          5.125,
          null,
          5.125,
          2.625,
          null,
          2.625,
          5.125,
          null,
          2.625,
          5.125,
          null,
          2.625,
          5.125,
          null,
          2.625,
          5.125,
          null,
          5.125,
          2.625,
          null,
          5.125,
          2.625,
          null,
          2.625,
          5.125,
          null,
          5.125,
          2.625,
          null,
          5.125,
          2.625,
          null,
          5.125,
          2.625,
          null,
          5.125,
          2.625,
          null
         ]
        }
       ],
       "layout": {
        "autosize": true,
        "height": 500,
        "margin": {
         "b": 40,
         "l": 40,
         "r": 40,
         "t": 40
        },
        "paper_bgcolor": "rgba(0,0,0,0)",
        "plot_bgcolor": "rgba(0,0,0,0)",
        "scene": {
         "aspectmode": "data",
         "camera": {
          "center": {
           "x": 0,
           "y": 0,
           "z": 0
          },
          "eye": {
           "x": -1.25,
           "y": -1.25,
           "z": 1.25
          },
          "projection": {
           "type": "orthographic"
          },
          "up": {
           "x": 0,
           "y": 0,
           "z": 1
          }
         },
         "xaxis": {
          "visible": false
         },
         "yaxis": {
          "visible": false
         },
         "zaxis": {
          "visible": false
         }
        },
        "showlegend": true,
        "template": {
         "data": {
          "bar": [
           {
            "error_x": {
             "color": "#2a3f5f"
            },
            "error_y": {
             "color": "#2a3f5f"
            },
            "marker": {
             "line": {
              "color": "#E5ECF6",
              "width": 0.5
             },
             "pattern": {
              "fillmode": "overlay",
              "size": 10,
              "solidity": 0.2
             }
            },
            "type": "bar"
           }
          ],
          "barpolar": [
           {
            "marker": {
             "line": {
              "color": "#E5ECF6",
              "width": 0.5
             },
             "pattern": {
              "fillmode": "overlay",
              "size": 10,
              "solidity": 0.2
             }
            },
            "type": "barpolar"
           }
          ],
          "carpet": [
           {
            "aaxis": {
             "endlinecolor": "#2a3f5f",
             "gridcolor": "white",
             "linecolor": "white",
             "minorgridcolor": "white",
             "startlinecolor": "#2a3f5f"
            },
            "baxis": {
             "endlinecolor": "#2a3f5f",
             "gridcolor": "white",
             "linecolor": "white",
             "minorgridcolor": "white",
             "startlinecolor": "#2a3f5f"
            },
            "type": "carpet"
           }
          ],
          "choropleth": [
           {
            "colorbar": {
             "outlinewidth": 0,
             "ticks": ""
            },
            "type": "choropleth"
           }
          ],
          "contour": [
           {
            "colorbar": {
             "outlinewidth": 0,
             "ticks": ""
            },
            "colorscale": [
             [
              0,
              "#0d0887"
             ],
             [
              0.1111111111111111,
              "#46039f"
             ],
             [
              0.2222222222222222,
              "#7201a8"
             ],
             [
              0.3333333333333333,
              "#9c179e"
             ],
             [
              0.4444444444444444,
              "#bd3786"
             ],
             [
              0.5555555555555556,
              "#d8576b"
             ],
             [
              0.6666666666666666,
              "#ed7953"
             ],
             [
              0.7777777777777778,
              "#fb9f3a"
             ],
             [
              0.8888888888888888,
              "#fdca26"
             ],
             [
              1,
              "#f0f921"
             ]
            ],
            "type": "contour"
           }
          ],
          "contourcarpet": [
           {
            "colorbar": {
             "outlinewidth": 0,
             "ticks": ""
            },
            "type": "contourcarpet"
           }
          ],
          "heatmap": [
           {
            "colorbar": {
             "outlinewidth": 0,
             "ticks": ""
            },
            "colorscale": [
             [
              0,
              "#0d0887"
             ],
             [
              0.1111111111111111,
              "#46039f"
             ],
             [
              0.2222222222222222,
              "#7201a8"
             ],
             [
              0.3333333333333333,
              "#9c179e"
             ],
             [
              0.4444444444444444,
              "#bd3786"
             ],
             [
              0.5555555555555556,
              "#d8576b"
             ],
             [
              0.6666666666666666,
              "#ed7953"
             ],
             [
              0.7777777777777778,
              "#fb9f3a"
             ],
             [
              0.8888888888888888,
              "#fdca26"
             ],
             [
              1,
              "#f0f921"
             ]
            ],
            "type": "heatmap"
           }
          ],
          "heatmapgl": [
           {
            "colorbar": {
             "outlinewidth": 0,
             "ticks": ""
            },
            "colorscale": [
             [
              0,
              "#0d0887"
             ],
             [
              0.1111111111111111,
              "#46039f"
             ],
             [
              0.2222222222222222,
              "#7201a8"
             ],
             [
              0.3333333333333333,
              "#9c179e"
             ],
             [
              0.4444444444444444,
              "#bd3786"
             ],
             [
              0.5555555555555556,
              "#d8576b"
             ],
             [
              0.6666666666666666,
              "#ed7953"
             ],
             [
              0.7777777777777778,
              "#fb9f3a"
             ],
             [
              0.8888888888888888,
              "#fdca26"
             ],
             [
              1,
              "#f0f921"
             ]
            ],
            "type": "heatmapgl"
           }
          ],
          "histogram": [
           {
            "marker": {
             "pattern": {
              "fillmode": "overlay",
              "size": 10,
              "solidity": 0.2
             }
            },
            "type": "histogram"
           }
          ],
          "histogram2d": [
           {
            "colorbar": {
             "outlinewidth": 0,
             "ticks": ""
            },
            "colorscale": [
             [
              0,
              "#0d0887"
             ],
             [
              0.1111111111111111,
              "#46039f"
             ],
             [
              0.2222222222222222,
              "#7201a8"
             ],
             [
              0.3333333333333333,
              "#9c179e"
             ],
             [
              0.4444444444444444,
              "#bd3786"
             ],
             [
              0.5555555555555556,
              "#d8576b"
             ],
             [
              0.6666666666666666,
              "#ed7953"
             ],
             [
              0.7777777777777778,
              "#fb9f3a"
             ],
             [
              0.8888888888888888,
              "#fdca26"
             ],
             [
              1,
              "#f0f921"
             ]
            ],
            "type": "histogram2d"
           }
          ],
          "histogram2dcontour": [
           {
            "colorbar": {
             "outlinewidth": 0,
             "ticks": ""
            },
            "colorscale": [
             [
              0,
              "#0d0887"
             ],
             [
              0.1111111111111111,
              "#46039f"
             ],
             [
              0.2222222222222222,
              "#7201a8"
             ],
             [
              0.3333333333333333,
              "#9c179e"
             ],
             [
              0.4444444444444444,
              "#bd3786"
             ],
             [
              0.5555555555555556,
              "#d8576b"
             ],
             [
              0.6666666666666666,
              "#ed7953"
             ],
             [
              0.7777777777777778,
              "#fb9f3a"
             ],
             [
              0.8888888888888888,
              "#fdca26"
             ],
             [
              1,
              "#f0f921"
             ]
            ],
            "type": "histogram2dcontour"
           }
          ],
          "mesh3d": [
           {
            "colorbar": {
             "outlinewidth": 0,
             "ticks": ""
            },
            "type": "mesh3d"
           }
          ],
          "parcoords": [
           {
            "line": {
             "colorbar": {
              "outlinewidth": 0,
              "ticks": ""
             }
            },
            "type": "parcoords"
           }
          ],
          "pie": [
           {
            "automargin": true,
            "type": "pie"
           }
          ],
          "scatter": [
           {
            "fillpattern": {
             "fillmode": "overlay",
             "size": 10,
             "solidity": 0.2
            },
            "type": "scatter"
           }
          ],
          "scatter3d": [
           {
            "line": {
             "colorbar": {
              "outlinewidth": 0,
              "ticks": ""
             }
            },
            "marker": {
             "colorbar": {
              "outlinewidth": 0,
              "ticks": ""
             }
            },
            "type": "scatter3d"
           }
          ],
          "scattercarpet": [
           {
            "marker": {
             "colorbar": {
              "outlinewidth": 0,
              "ticks": ""
             }
            },
            "type": "scattercarpet"
           }
          ],
          "scattergeo": [
           {
            "marker": {
             "colorbar": {
              "outlinewidth": 0,
              "ticks": ""
             }
            },
            "type": "scattergeo"
           }
          ],
          "scattergl": [
           {
            "marker": {
             "colorbar": {
              "outlinewidth": 0,
              "ticks": ""
             }
            },
            "type": "scattergl"
           }
          ],
          "scattermapbox": [
           {
            "marker": {
             "colorbar": {
              "outlinewidth": 0,
              "ticks": ""
             }
            },
            "type": "scattermapbox"
           }
          ],
          "scatterpolar": [
           {
            "marker": {
             "colorbar": {
              "outlinewidth": 0,
              "ticks": ""
             }
            },
            "type": "scatterpolar"
           }
          ],
          "scatterpolargl": [
           {
            "marker": {
             "colorbar": {
              "outlinewidth": 0,
              "ticks": ""
             }
            },
            "type": "scatterpolargl"
           }
          ],
          "scatterternary": [
           {
            "marker": {
             "colorbar": {
              "outlinewidth": 0,
              "ticks": ""
             }
            },
            "type": "scatterternary"
           }
          ],
          "surface": [
           {
            "colorbar": {
             "outlinewidth": 0,
             "ticks": ""
            },
            "colorscale": [
             [
              0,
              "#0d0887"
             ],
             [
              0.1111111111111111,
              "#46039f"
             ],
             [
              0.2222222222222222,
              "#7201a8"
             ],
             [
              0.3333333333333333,
              "#9c179e"
             ],
             [
              0.4444444444444444,
              "#bd3786"
             ],
             [
              0.5555555555555556,
              "#d8576b"
             ],
             [
              0.6666666666666666,
              "#ed7953"
             ],
             [
              0.7777777777777778,
              "#fb9f3a"
             ],
             [
              0.8888888888888888,
              "#fdca26"
             ],
             [
              1,
              "#f0f921"
             ]
            ],
            "type": "surface"
           }
          ],
          "table": [
           {
            "cells": {
             "fill": {
              "color": "#EBF0F8"
             },
             "line": {
              "color": "white"
             }
            },
            "header": {
             "fill": {
              "color": "#C8D4E3"
             },
             "line": {
              "color": "white"
             }
            },
            "type": "table"
           }
          ]
         },
         "layout": {
          "annotationdefaults": {
           "arrowcolor": "#2a3f5f",
           "arrowhead": 0,
           "arrowwidth": 1
          },
          "autotypenumbers": "strict",
          "coloraxis": {
           "colorbar": {
            "outlinewidth": 0,
            "ticks": ""
           }
          },
          "colorscale": {
           "diverging": [
            [
             0,
             "#8e0152"
            ],
            [
             0.1,
             "#c51b7d"
            ],
            [
             0.2,
             "#de77ae"
            ],
            [
             0.3,
             "#f1b6da"
            ],
            [
             0.4,
             "#fde0ef"
            ],
            [
             0.5,
             "#f7f7f7"
            ],
            [
             0.6,
             "#e6f5d0"
            ],
            [
             0.7,
             "#b8e186"
            ],
            [
             0.8,
             "#7fbc41"
            ],
            [
             0.9,
             "#4d9221"
            ],
            [
             1,
             "#276419"
            ]
           ],
           "sequential": [
            [
             0,
             "#0d0887"
            ],
            [
             0.1111111111111111,
             "#46039f"
            ],
            [
             0.2222222222222222,
             "#7201a8"
            ],
            [
             0.3333333333333333,
             "#9c179e"
            ],
            [
             0.4444444444444444,
             "#bd3786"
            ],
            [
             0.5555555555555556,
             "#d8576b"
            ],
            [
             0.6666666666666666,
             "#ed7953"
            ],
            [
             0.7777777777777778,
             "#fb9f3a"
            ],
            [
             0.8888888888888888,
             "#fdca26"
            ],
            [
             1,
             "#f0f921"
            ]
           ],
           "sequentialminus": [
            [
             0,
             "#0d0887"
            ],
            [
             0.1111111111111111,
             "#46039f"
            ],
            [
             0.2222222222222222,
             "#7201a8"
            ],
            [
             0.3333333333333333,
             "#9c179e"
            ],
            [
             0.4444444444444444,
             "#bd3786"
            ],
            [
             0.5555555555555556,
             "#d8576b"
            ],
            [
             0.6666666666666666,
             "#ed7953"
            ],
            [
             0.7777777777777778,
             "#fb9f3a"
            ],
            [
             0.8888888888888888,
             "#fdca26"
            ],
            [
             1,
             "#f0f921"
            ]
           ]
          },
          "colorway": [
           "#636efa",
           "#EF553B",
           "#00cc96",
           "#ab63fa",
           "#FFA15A",
           "#19d3f3",
           "#FF6692",
           "#B6E880",
           "#FF97FF",
           "#FECB52"
          ],
          "font": {
           "color": "#2a3f5f"
          },
          "geo": {
           "bgcolor": "white",
           "lakecolor": "white",
           "landcolor": "#E5ECF6",
           "showlakes": true,
           "showland": true,
           "subunitcolor": "white"
          },
          "hoverlabel": {
           "align": "left"
          },
          "hovermode": "closest",
          "mapbox": {
           "style": "light"
          },
          "paper_bgcolor": "white",
          "plot_bgcolor": "#E5ECF6",
          "polar": {
           "angularaxis": {
            "gridcolor": "white",
            "linecolor": "white",
            "ticks": ""
           },
           "bgcolor": "#E5ECF6",
           "radialaxis": {
            "gridcolor": "white",
            "linecolor": "white",
            "ticks": ""
           }
          },
          "scene": {
           "xaxis": {
            "backgroundcolor": "#E5ECF6",
            "gridcolor": "white",
            "gridwidth": 2,
            "linecolor": "white",
            "showbackground": true,
            "ticks": "",
            "zerolinecolor": "white"
           },
           "yaxis": {
            "backgroundcolor": "#E5ECF6",
            "gridcolor": "white",
            "gridwidth": 2,
            "linecolor": "white",
            "showbackground": true,
            "ticks": "",
            "zerolinecolor": "white"
           },
           "zaxis": {
            "backgroundcolor": "#E5ECF6",
            "gridcolor": "white",
            "gridwidth": 2,
            "linecolor": "white",
            "showbackground": true,
            "ticks": "",
            "zerolinecolor": "white"
           }
          },
          "shapedefaults": {
           "line": {
            "color": "#2a3f5f"
           }
          },
          "ternary": {
           "aaxis": {
            "gridcolor": "white",
            "linecolor": "white",
            "ticks": ""
           },
           "baxis": {
            "gridcolor": "white",
            "linecolor": "white",
            "ticks": ""
           },
           "bgcolor": "#E5ECF6",
           "caxis": {
            "gridcolor": "white",
            "linecolor": "white",
            "ticks": ""
           }
          },
          "title": {
           "x": 0.05
          },
          "xaxis": {
           "automargin": true,
           "gridcolor": "white",
           "linecolor": "white",
           "ticks": "",
           "title": {
            "standoff": 15
           },
           "zerolinecolor": "white",
           "zerolinewidth": 2
          },
          "yaxis": {
           "automargin": true,
           "gridcolor": "white",
           "linecolor": "white",
           "ticks": "",
           "title": {
            "standoff": 15
           },
           "zerolinecolor": "white",
           "zerolinewidth": 2
          }
         }
        },
        "width": 950,
        "xaxis": {
         "showgrid": false,
         "visible": false,
         "zeroline": false
        },
        "yaxis": {
         "showgrid": false,
         "visible": false,
         "zeroline": false
        }
       }
      }
     },
     "metadata": {},
     "output_type": "display_data"
    }
   ],
   "source": [
    "topoGraph = Graph.ByVerticesEdges(graph_vertices, graph_edges)\n",
    "print(topoGraph)\n",
    "\n",
    "vertexColor=[]\n",
    "for c in vertices:\n",
    "    if vertices[c][\"z\"] != 2.625:\n",
    "        vertexColor.append(\"red\")\n",
    "    else:\n",
    "        vertexColor.append(\"white\")\n",
    "\n",
    "Graph.Show(topoGraph,\n",
    "           vertexColor = vertexColor,\n",
    "           edgeColor = \"white\",\n",
    "           projection = \"orthographic\")"
   ]
  },
  {
   "cell_type": "code",
   "execution_count": 192,
   "metadata": {},
   "outputs": [
    {
     "data": {
      "text/plain": [
       "['horizontal',\n",
       " 'vertical',\n",
       " 'horizontal',\n",
       " 'horizontal',\n",
       " 'vertical',\n",
       " 'horizontal',\n",
       " 'vertical',\n",
       " 'horizontal',\n",
       " 'horizontal',\n",
       " 'vertical',\n",
       " 'horizontal',\n",
       " 'horizontal',\n",
       " 'vertical',\n",
       " 'vertical',\n",
       " 'horizontal',\n",
       " 'vertical',\n",
       " 'horizontal',\n",
       " 'vertical',\n",
       " 'horizontal',\n",
       " 'vertical',\n",
       " 'horizontal',\n",
       " 'horizontal',\n",
       " 'horizontal',\n",
       " 'horizontal',\n",
       " 'vertical',\n",
       " 'horizontal',\n",
       " 'vertical',\n",
       " 'vertical',\n",
       " 'horizontal',\n",
       " 'horizontal',\n",
       " 'vertical',\n",
       " 'horizontal',\n",
       " 'horizontal',\n",
       " 'horizontal',\n",
       " 'horizontal',\n",
       " 'vertical',\n",
       " 'vertical',\n",
       " 'vertical',\n",
       " 'horizontal',\n",
       " 'vertical',\n",
       " 'vertical',\n",
       " 'horizontal',\n",
       " 'vertical',\n",
       " 'horizontal',\n",
       " 'horizontal',\n",
       " 'horizontal',\n",
       " 'horizontal',\n",
       " 'horizontal',\n",
       " 'vertical']"
      ]
     },
     "execution_count": 192,
     "metadata": {},
     "output_type": "execute_result"
    }
   ],
   "source": [
    "# Check Dictionaries in graphs vertices\n",
    "Gv = Graph.Vertices(topoGraph)\n",
    "index = 23\n",
    "\n",
    "extract_Graph_node = [Topology.Dictionary(Gv[i]) for i,v in enumerate(Gv)]\n",
    "\n",
    "[Dictionary.ValueAtKey(d ,\"orientation\") for d in extract_Graph_node]"
   ]
  },
  {
   "cell_type": "code",
   "execution_count": 122,
   "metadata": {},
   "outputs": [
    {
     "name": "stdout",
     "output_type": "stream",
     "text": [
      "Number of Nodes: 49\n"
     ]
    },
    {
     "data": {
      "application/vnd.plotly.v1+json": {
       "config": {
        "plotlyServerURL": "https://plot.ly"
       },
       "data": [
        {
         "hoverinfo": "text",
         "legendgroup": "4",
         "legendrank": 4,
         "marker": {
          "color": "black",
          "colorscale": [
           [
            0,
            "#440154"
           ],
           [
            0.1111111111111111,
            "#482878"
           ],
           [
            0.2222222222222222,
            "#3e4989"
           ],
           [
            0.3333333333333333,
            "#31688e"
           ],
           [
            0.4444444444444444,
            "#26828e"
           ],
           [
            0.5555555555555556,
            "#1f9e89"
           ],
           [
            0.6666666666666666,
            "#35b779"
           ],
           [
            0.7777777777777778,
            "#6ece58"
           ],
           [
            0.8888888888888888,
            "#b5de2b"
           ],
           [
            1,
            "#fde725"
           ]
          ],
          "line": {
           "color": "black",
           "width": 0.5
          },
          "size": 6,
          "symbol": "circle"
         },
         "mode": "markers",
         "name": "Graph Vertices",
         "showlegend": false,
         "text": "",
         "type": "scatter3d",
         "x": [
          2.942679,
          -1.115957,
          0.38496,
          0.076035,
          0.793891,
          2.073015,
          1.764154,
          1.347273,
          -0.976696,
          -0.005503,
          0.330056,
          0.72896,
          -2.376001,
          -1.704487,
          -0.365775,
          1.021597,
          -0.236183,
          -1.650323,
          0.892351,
          -1.874835,
          1.819774,
          0.47052,
          -0.745251,
          -0.687865,
          2.898878,
          -1.295199,
          1.247147,
          1.711447,
          2.85772,
          2.329189,
          2.193708,
          0.950293,
          1.038725,
          1.218236,
          3.09159,
          0.881852,
          0.54281,
          1.333924,
          2.738647,
          -1.70259,
          3.277541,
          2.983201,
          -0.109163,
          -0.575559,
          -1.410315,
          1.403983,
          0.979352,
          -1.344728,
          -1.570071
         ],
         "y": [
          -0.030224,
          -2.010011,
          -0.513785,
          -1.603596,
          3.005634,
          1.265648,
          -0.980724,
          0.219143,
          -0.344981,
          2.230932,
          1.480034,
          -1.794303,
          0.148144,
          0.664111,
          -2.049588,
          0.500846,
          1.100491,
          -1.053715,
          1.808273,
          -0.683724,
          -1.98597,
          -1.835469,
          1.903769,
          -1.537319,
          -0.820769,
          1.991399,
          2.635774,
          -0.36406,
          1.521907,
          2.024165,
          0.530183,
          -1.326055,
          2.147914,
          -1.749362,
          1.304843,
          3.324036,
          -0.296465,
          1.202163,
          2.046558,
          0.208144,
          1.081671,
          -0.428196,
          2.974784,
          1.156756,
          2.720448,
          3.218089,
          2.375103,
          -0.865897,
          1.03606
         ],
         "z": [
          0,
          0,
          0,
          0,
          0,
          0,
          0,
          0,
          0,
          0,
          0,
          0,
          0,
          0,
          0,
          0,
          0,
          0,
          0,
          0,
          0,
          0,
          0,
          0,
          0,
          0,
          0,
          0,
          0,
          0,
          0,
          0,
          0,
          0,
          0,
          0,
          0,
          0,
          0,
          0,
          0,
          0,
          0,
          0,
          0,
          0,
          0,
          0,
          0
         ]
        },
        {
         "hoverinfo": "text",
         "legendgroup": "5",
         "legendrank": 5,
         "line": {
          "color": "black",
          "width": 1
         },
         "mode": "lines",
         "name": "Graph Edges",
         "showlegend": false,
         "text": "",
         "type": "scatter3d",
         "x": [
          2.942679,
          1.711447,
          null,
          1.021597,
          2.942679,
          null,
          -0.365775,
          -1.115957,
          null,
          -1.115957,
          -1.874835,
          null,
          0.330056,
          0.38496,
          null,
          0.38496,
          -1.874835,
          null,
          0.076035,
          1.819774,
          null,
          0.47052,
          0.076035,
          null,
          0.076035,
          0.72896,
          null,
          0.793891,
          2.073015,
          null,
          0.330056,
          0.793891,
          null,
          2.073015,
          1.764154,
          null,
          1.764154,
          1.021597,
          null,
          1.347273,
          -0.005503,
          null,
          1.819774,
          1.347273,
          null,
          -0.976696,
          -0.687865,
          null,
          -2.376001,
          -0.976696,
          null,
          -0.976696,
          -0.745251,
          null,
          0.72896,
          -0.976696,
          null,
          -0.005503,
          1.247147,
          null,
          0.892351,
          0.330056,
          null,
          -1.874835,
          -2.376001,
          null,
          -1.874835,
          -1.704487,
          null,
          -1.704487,
          1.021597,
          null,
          -1.650323,
          -0.365775,
          null,
          -0.365775,
          0.47052,
          null,
          1.021597,
          2.329189,
          null,
          -0.236183,
          -1.650323,
          null,
          -0.236183,
          0.892351,
          null,
          -0.745251,
          1.247147,
          null,
          -0.687865,
          1.711447,
          null,
          0.950293,
          2.898878,
          null,
          2.85772,
          2.898878,
          null,
          -1.295199,
          -1.70259,
          null,
          0.881852,
          -1.295199,
          null,
          1.247147,
          2.85772,
          null,
          1.711447,
          0.950293,
          null,
          1.711447,
          2.738647,
          null,
          2.329189,
          2.193708,
          null,
          2.193708,
          1.218236,
          null,
          2.193708,
          1.038725,
          null,
          2.193708,
          3.09159,
          null,
          1.038725,
          0.881852,
          null,
          1.218236,
          0.54281,
          null,
          3.09159,
          1.333924,
          null,
          0.881852,
          1.403983,
          null,
          2.738647,
          0.881852,
          null,
          0.54281,
          -0.575559,
          null,
          0.54281,
          2.983201,
          null,
          1.333924,
          0.979352,
          null,
          -1.70259,
          -1.344728,
          null,
          2.983201,
          3.277541,
          null,
          0.979352,
          3.277541,
          null,
          1.403983,
          -0.109163,
          null,
          -0.109163,
          -1.410315,
          null,
          -0.575559,
          -0.109163,
          null,
          -1.410315,
          -1.570071,
          null,
          -1.344728,
          -1.570071,
          null
         ],
         "y": [
          -0.030224,
          -0.36406,
          null,
          0.500846,
          -0.030224,
          null,
          -2.049588,
          -2.010011,
          null,
          -2.010011,
          -0.683724,
          null,
          1.480034,
          -0.513785,
          null,
          -0.513785,
          -0.683724,
          null,
          -1.603596,
          -1.98597,
          null,
          -1.835469,
          -1.603596,
          null,
          -1.603596,
          -1.794303,
          null,
          3.005634,
          1.265648,
          null,
          1.480034,
          3.005634,
          null,
          1.265648,
          -0.980724,
          null,
          -0.980724,
          0.500846,
          null,
          0.219143,
          2.230932,
          null,
          -1.98597,
          0.219143,
          null,
          -0.344981,
          -1.537319,
          null,
          0.148144,
          -0.344981,
          null,
          -0.344981,
          1.903769,
          null,
          -1.794303,
          -0.344981,
          null,
          2.230932,
          2.635774,
          null,
          1.808273,
          1.480034,
          null,
          -0.683724,
          0.148144,
          null,
          -0.683724,
          0.664111,
          null,
          0.664111,
          0.500846,
          null,
          -1.053715,
          -2.049588,
          null,
          -2.049588,
          -1.835469,
          null,
          0.500846,
          2.024165,
          null,
          1.100491,
          -1.053715,
          null,
          1.100491,
          1.808273,
          null,
          1.903769,
          2.635774,
          null,
          -1.537319,
          -0.36406,
          null,
          -1.326055,
          -0.820769,
          null,
          1.521907,
          -0.820769,
          null,
          1.991399,
          0.208144,
          null,
          3.324036,
          1.991399,
          null,
          2.635774,
          1.521907,
          null,
          -0.36406,
          -1.326055,
          null,
          -0.36406,
          2.046558,
          null,
          2.024165,
          0.530183,
          null,
          0.530183,
          -1.749362,
          null,
          0.530183,
          2.147914,
          null,
          0.530183,
          1.304843,
          null,
          2.147914,
          3.324036,
          null,
          -1.749362,
          -0.296465,
          null,
          1.304843,
          1.202163,
          null,
          3.324036,
          3.218089,
          null,
          2.046558,
          3.324036,
          null,
          -0.296465,
          1.156756,
          null,
          -0.296465,
          -0.428196,
          null,
          1.202163,
          2.375103,
          null,
          0.208144,
          -0.865897,
          null,
          -0.428196,
          1.081671,
          null,
          2.375103,
          1.081671,
          null,
          3.218089,
          2.974784,
          null,
          2.974784,
          2.720448,
          null,
          1.156756,
          2.974784,
          null,
          2.720448,
          1.03606,
          null,
          -0.865897,
          1.03606,
          null
         ],
         "z": [
          0,
          0,
          null,
          0,
          0,
          null,
          0,
          0,
          null,
          0,
          0,
          null,
          0,
          0,
          null,
          0,
          0,
          null,
          0,
          0,
          null,
          0,
          0,
          null,
          0,
          0,
          null,
          0,
          0,
          null,
          0,
          0,
          null,
          0,
          0,
          null,
          0,
          0,
          null,
          0,
          0,
          null,
          0,
          0,
          null,
          0,
          0,
          null,
          0,
          0,
          null,
          0,
          0,
          null,
          0,
          0,
          null,
          0,
          0,
          null,
          0,
          0,
          null,
          0,
          0,
          null,
          0,
          0,
          null,
          0,
          0,
          null,
          0,
          0,
          null,
          0,
          0,
          null,
          0,
          0,
          null,
          0,
          0,
          null,
          0,
          0,
          null,
          0,
          0,
          null,
          0,
          0,
          null,
          0,
          0,
          null,
          0,
          0,
          null,
          0,
          0,
          null,
          0,
          0,
          null,
          0,
          0,
          null,
          0,
          0,
          null,
          0,
          0,
          null,
          0,
          0,
          null,
          0,
          0,
          null,
          0,
          0,
          null,
          0,
          0,
          null,
          0,
          0,
          null,
          0,
          0,
          null,
          0,
          0,
          null,
          0,
          0,
          null,
          0,
          0,
          null,
          0,
          0,
          null,
          0,
          0,
          null,
          0,
          0,
          null,
          0,
          0,
          null,
          0,
          0,
          null,
          0,
          0,
          null,
          0,
          0,
          null,
          0,
          0,
          null,
          0,
          0,
          null,
          0,
          0,
          null,
          0,
          0,
          null
         ]
        }
       ],
       "layout": {
        "autosize": true,
        "height": 500,
        "margin": {
         "b": 40,
         "l": 40,
         "r": 40,
         "t": 40
        },
        "paper_bgcolor": "rgba(0,0,0,0)",
        "plot_bgcolor": "rgba(0,0,0,0)",
        "scene": {
         "aspectmode": "data",
         "camera": {
          "center": {
           "x": 0,
           "y": 0,
           "z": 0
          },
          "eye": {
           "x": -1.25,
           "y": -1.25,
           "z": 1.25
          },
          "projection": {
           "type": "perspective"
          },
          "up": {
           "x": 0,
           "y": 0,
           "z": 1
          }
         },
         "xaxis": {
          "visible": false
         },
         "yaxis": {
          "visible": false
         },
         "zaxis": {
          "visible": false
         }
        },
        "showlegend": true,
        "template": {
         "data": {
          "bar": [
           {
            "error_x": {
             "color": "#2a3f5f"
            },
            "error_y": {
             "color": "#2a3f5f"
            },
            "marker": {
             "line": {
              "color": "#E5ECF6",
              "width": 0.5
             },
             "pattern": {
              "fillmode": "overlay",
              "size": 10,
              "solidity": 0.2
             }
            },
            "type": "bar"
           }
          ],
          "barpolar": [
           {
            "marker": {
             "line": {
              "color": "#E5ECF6",
              "width": 0.5
             },
             "pattern": {
              "fillmode": "overlay",
              "size": 10,
              "solidity": 0.2
             }
            },
            "type": "barpolar"
           }
          ],
          "carpet": [
           {
            "aaxis": {
             "endlinecolor": "#2a3f5f",
             "gridcolor": "white",
             "linecolor": "white",
             "minorgridcolor": "white",
             "startlinecolor": "#2a3f5f"
            },
            "baxis": {
             "endlinecolor": "#2a3f5f",
             "gridcolor": "white",
             "linecolor": "white",
             "minorgridcolor": "white",
             "startlinecolor": "#2a3f5f"
            },
            "type": "carpet"
           }
          ],
          "choropleth": [
           {
            "colorbar": {
             "outlinewidth": 0,
             "ticks": ""
            },
            "type": "choropleth"
           }
          ],
          "contour": [
           {
            "colorbar": {
             "outlinewidth": 0,
             "ticks": ""
            },
            "colorscale": [
             [
              0,
              "#0d0887"
             ],
             [
              0.1111111111111111,
              "#46039f"
             ],
             [
              0.2222222222222222,
              "#7201a8"
             ],
             [
              0.3333333333333333,
              "#9c179e"
             ],
             [
              0.4444444444444444,
              "#bd3786"
             ],
             [
              0.5555555555555556,
              "#d8576b"
             ],
             [
              0.6666666666666666,
              "#ed7953"
             ],
             [
              0.7777777777777778,
              "#fb9f3a"
             ],
             [
              0.8888888888888888,
              "#fdca26"
             ],
             [
              1,
              "#f0f921"
             ]
            ],
            "type": "contour"
           }
          ],
          "contourcarpet": [
           {
            "colorbar": {
             "outlinewidth": 0,
             "ticks": ""
            },
            "type": "contourcarpet"
           }
          ],
          "heatmap": [
           {
            "colorbar": {
             "outlinewidth": 0,
             "ticks": ""
            },
            "colorscale": [
             [
              0,
              "#0d0887"
             ],
             [
              0.1111111111111111,
              "#46039f"
             ],
             [
              0.2222222222222222,
              "#7201a8"
             ],
             [
              0.3333333333333333,
              "#9c179e"
             ],
             [
              0.4444444444444444,
              "#bd3786"
             ],
             [
              0.5555555555555556,
              "#d8576b"
             ],
             [
              0.6666666666666666,
              "#ed7953"
             ],
             [
              0.7777777777777778,
              "#fb9f3a"
             ],
             [
              0.8888888888888888,
              "#fdca26"
             ],
             [
              1,
              "#f0f921"
             ]
            ],
            "type": "heatmap"
           }
          ],
          "heatmapgl": [
           {
            "colorbar": {
             "outlinewidth": 0,
             "ticks": ""
            },
            "colorscale": [
             [
              0,
              "#0d0887"
             ],
             [
              0.1111111111111111,
              "#46039f"
             ],
             [
              0.2222222222222222,
              "#7201a8"
             ],
             [
              0.3333333333333333,
              "#9c179e"
             ],
             [
              0.4444444444444444,
              "#bd3786"
             ],
             [
              0.5555555555555556,
              "#d8576b"
             ],
             [
              0.6666666666666666,
              "#ed7953"
             ],
             [
              0.7777777777777778,
              "#fb9f3a"
             ],
             [
              0.8888888888888888,
              "#fdca26"
             ],
             [
              1,
              "#f0f921"
             ]
            ],
            "type": "heatmapgl"
           }
          ],
          "histogram": [
           {
            "marker": {
             "pattern": {
              "fillmode": "overlay",
              "size": 10,
              "solidity": 0.2
             }
            },
            "type": "histogram"
           }
          ],
          "histogram2d": [
           {
            "colorbar": {
             "outlinewidth": 0,
             "ticks": ""
            },
            "colorscale": [
             [
              0,
              "#0d0887"
             ],
             [
              0.1111111111111111,
              "#46039f"
             ],
             [
              0.2222222222222222,
              "#7201a8"
             ],
             [
              0.3333333333333333,
              "#9c179e"
             ],
             [
              0.4444444444444444,
              "#bd3786"
             ],
             [
              0.5555555555555556,
              "#d8576b"
             ],
             [
              0.6666666666666666,
              "#ed7953"
             ],
             [
              0.7777777777777778,
              "#fb9f3a"
             ],
             [
              0.8888888888888888,
              "#fdca26"
             ],
             [
              1,
              "#f0f921"
             ]
            ],
            "type": "histogram2d"
           }
          ],
          "histogram2dcontour": [
           {
            "colorbar": {
             "outlinewidth": 0,
             "ticks": ""
            },
            "colorscale": [
             [
              0,
              "#0d0887"
             ],
             [
              0.1111111111111111,
              "#46039f"
             ],
             [
              0.2222222222222222,
              "#7201a8"
             ],
             [
              0.3333333333333333,
              "#9c179e"
             ],
             [
              0.4444444444444444,
              "#bd3786"
             ],
             [
              0.5555555555555556,
              "#d8576b"
             ],
             [
              0.6666666666666666,
              "#ed7953"
             ],
             [
              0.7777777777777778,
              "#fb9f3a"
             ],
             [
              0.8888888888888888,
              "#fdca26"
             ],
             [
              1,
              "#f0f921"
             ]
            ],
            "type": "histogram2dcontour"
           }
          ],
          "mesh3d": [
           {
            "colorbar": {
             "outlinewidth": 0,
             "ticks": ""
            },
            "type": "mesh3d"
           }
          ],
          "parcoords": [
           {
            "line": {
             "colorbar": {
              "outlinewidth": 0,
              "ticks": ""
             }
            },
            "type": "parcoords"
           }
          ],
          "pie": [
           {
            "automargin": true,
            "type": "pie"
           }
          ],
          "scatter": [
           {
            "fillpattern": {
             "fillmode": "overlay",
             "size": 10,
             "solidity": 0.2
            },
            "type": "scatter"
           }
          ],
          "scatter3d": [
           {
            "line": {
             "colorbar": {
              "outlinewidth": 0,
              "ticks": ""
             }
            },
            "marker": {
             "colorbar": {
              "outlinewidth": 0,
              "ticks": ""
             }
            },
            "type": "scatter3d"
           }
          ],
          "scattercarpet": [
           {
            "marker": {
             "colorbar": {
              "outlinewidth": 0,
              "ticks": ""
             }
            },
            "type": "scattercarpet"
           }
          ],
          "scattergeo": [
           {
            "marker": {
             "colorbar": {
              "outlinewidth": 0,
              "ticks": ""
             }
            },
            "type": "scattergeo"
           }
          ],
          "scattergl": [
           {
            "marker": {
             "colorbar": {
              "outlinewidth": 0,
              "ticks": ""
             }
            },
            "type": "scattergl"
           }
          ],
          "scattermapbox": [
           {
            "marker": {
             "colorbar": {
              "outlinewidth": 0,
              "ticks": ""
             }
            },
            "type": "scattermapbox"
           }
          ],
          "scatterpolar": [
           {
            "marker": {
             "colorbar": {
              "outlinewidth": 0,
              "ticks": ""
             }
            },
            "type": "scatterpolar"
           }
          ],
          "scatterpolargl": [
           {
            "marker": {
             "colorbar": {
              "outlinewidth": 0,
              "ticks": ""
             }
            },
            "type": "scatterpolargl"
           }
          ],
          "scatterternary": [
           {
            "marker": {
             "colorbar": {
              "outlinewidth": 0,
              "ticks": ""
             }
            },
            "type": "scatterternary"
           }
          ],
          "surface": [
           {
            "colorbar": {
             "outlinewidth": 0,
             "ticks": ""
            },
            "colorscale": [
             [
              0,
              "#0d0887"
             ],
             [
              0.1111111111111111,
              "#46039f"
             ],
             [
              0.2222222222222222,
              "#7201a8"
             ],
             [
              0.3333333333333333,
              "#9c179e"
             ],
             [
              0.4444444444444444,
              "#bd3786"
             ],
             [
              0.5555555555555556,
              "#d8576b"
             ],
             [
              0.6666666666666666,
              "#ed7953"
             ],
             [
              0.7777777777777778,
              "#fb9f3a"
             ],
             [
              0.8888888888888888,
              "#fdca26"
             ],
             [
              1,
              "#f0f921"
             ]
            ],
            "type": "surface"
           }
          ],
          "table": [
           {
            "cells": {
             "fill": {
              "color": "#EBF0F8"
             },
             "line": {
              "color": "white"
             }
            },
            "header": {
             "fill": {
              "color": "#C8D4E3"
             },
             "line": {
              "color": "white"
             }
            },
            "type": "table"
           }
          ]
         },
         "layout": {
          "annotationdefaults": {
           "arrowcolor": "#2a3f5f",
           "arrowhead": 0,
           "arrowwidth": 1
          },
          "autotypenumbers": "strict",
          "coloraxis": {
           "colorbar": {
            "outlinewidth": 0,
            "ticks": ""
           }
          },
          "colorscale": {
           "diverging": [
            [
             0,
             "#8e0152"
            ],
            [
             0.1,
             "#c51b7d"
            ],
            [
             0.2,
             "#de77ae"
            ],
            [
             0.3,
             "#f1b6da"
            ],
            [
             0.4,
             "#fde0ef"
            ],
            [
             0.5,
             "#f7f7f7"
            ],
            [
             0.6,
             "#e6f5d0"
            ],
            [
             0.7,
             "#b8e186"
            ],
            [
             0.8,
             "#7fbc41"
            ],
            [
             0.9,
             "#4d9221"
            ],
            [
             1,
             "#276419"
            ]
           ],
           "sequential": [
            [
             0,
             "#0d0887"
            ],
            [
             0.1111111111111111,
             "#46039f"
            ],
            [
             0.2222222222222222,
             "#7201a8"
            ],
            [
             0.3333333333333333,
             "#9c179e"
            ],
            [
             0.4444444444444444,
             "#bd3786"
            ],
            [
             0.5555555555555556,
             "#d8576b"
            ],
            [
             0.6666666666666666,
             "#ed7953"
            ],
            [
             0.7777777777777778,
             "#fb9f3a"
            ],
            [
             0.8888888888888888,
             "#fdca26"
            ],
            [
             1,
             "#f0f921"
            ]
           ],
           "sequentialminus": [
            [
             0,
             "#0d0887"
            ],
            [
             0.1111111111111111,
             "#46039f"
            ],
            [
             0.2222222222222222,
             "#7201a8"
            ],
            [
             0.3333333333333333,
             "#9c179e"
            ],
            [
             0.4444444444444444,
             "#bd3786"
            ],
            [
             0.5555555555555556,
             "#d8576b"
            ],
            [
             0.6666666666666666,
             "#ed7953"
            ],
            [
             0.7777777777777778,
             "#fb9f3a"
            ],
            [
             0.8888888888888888,
             "#fdca26"
            ],
            [
             1,
             "#f0f921"
            ]
           ]
          },
          "colorway": [
           "#636efa",
           "#EF553B",
           "#00cc96",
           "#ab63fa",
           "#FFA15A",
           "#19d3f3",
           "#FF6692",
           "#B6E880",
           "#FF97FF",
           "#FECB52"
          ],
          "font": {
           "color": "#2a3f5f"
          },
          "geo": {
           "bgcolor": "white",
           "lakecolor": "white",
           "landcolor": "#E5ECF6",
           "showlakes": true,
           "showland": true,
           "subunitcolor": "white"
          },
          "hoverlabel": {
           "align": "left"
          },
          "hovermode": "closest",
          "mapbox": {
           "style": "light"
          },
          "paper_bgcolor": "white",
          "plot_bgcolor": "#E5ECF6",
          "polar": {
           "angularaxis": {
            "gridcolor": "white",
            "linecolor": "white",
            "ticks": ""
           },
           "bgcolor": "#E5ECF6",
           "radialaxis": {
            "gridcolor": "white",
            "linecolor": "white",
            "ticks": ""
           }
          },
          "scene": {
           "xaxis": {
            "backgroundcolor": "#E5ECF6",
            "gridcolor": "white",
            "gridwidth": 2,
            "linecolor": "white",
            "showbackground": true,
            "ticks": "",
            "zerolinecolor": "white"
           },
           "yaxis": {
            "backgroundcolor": "#E5ECF6",
            "gridcolor": "white",
            "gridwidth": 2,
            "linecolor": "white",
            "showbackground": true,
            "ticks": "",
            "zerolinecolor": "white"
           },
           "zaxis": {
            "backgroundcolor": "#E5ECF6",
            "gridcolor": "white",
            "gridwidth": 2,
            "linecolor": "white",
            "showbackground": true,
            "ticks": "",
            "zerolinecolor": "white"
           }
          },
          "shapedefaults": {
           "line": {
            "color": "#2a3f5f"
           }
          },
          "ternary": {
           "aaxis": {
            "gridcolor": "white",
            "linecolor": "white",
            "ticks": ""
           },
           "baxis": {
            "gridcolor": "white",
            "linecolor": "white",
            "ticks": ""
           },
           "bgcolor": "#E5ECF6",
           "caxis": {
            "gridcolor": "white",
            "linecolor": "white",
            "ticks": ""
           }
          },
          "title": {
           "x": 0.05
          },
          "xaxis": {
           "automargin": true,
           "gridcolor": "white",
           "linecolor": "white",
           "ticks": "",
           "title": {
            "standoff": 15
           },
           "zerolinecolor": "white",
           "zerolinewidth": 2
          },
          "yaxis": {
           "automargin": true,
           "gridcolor": "white",
           "linecolor": "white",
           "ticks": "",
           "title": {
            "standoff": 15
           },
           "zerolinecolor": "white",
           "zerolinewidth": 2
          }
         }
        },
        "width": 950,
        "xaxis": {
         "showgrid": false,
         "visible": false,
         "zeroline": false
        },
        "yaxis": {
         "showgrid": false,
         "visible": false,
         "zeroline": false
        }
       }
      }
     },
     "metadata": {},
     "output_type": "display_data"
    }
   ],
   "source": [
    "flatten_G = Graph.Flatten(topoGraph, layout = \"spring\", iterations=50)\n",
    "\n",
    "Graph.Show(flatten_G)"
   ]
  },
  {
   "cell_type": "code",
   "execution_count": 94,
   "metadata": {},
   "outputs": [],
   "source": [
    "import pydot"
   ]
  },
  {
   "cell_type": "code",
   "execution_count": 132,
   "metadata": {},
   "outputs": [
    {
     "data": {
      "image/png": "[encoded data removed]",
      "text/plain": [
       "<Figure size 640x480 with 1 Axes>"
      ]
     },
     "metadata": {},
     "output_type": "display_data"
    }
   ],
   "source": [
    "G = Graph.NetworkXGraph(topoGraph)\n",
    "\n",
    "\n",
    "G.nodes(data = True)\n",
    "\n",
    "pos = nx.spectral_layout(G)\n",
    "nx.draw(G,pos)"
   ]
  }
 ],
 "metadata": {
  "kernelspec": {
   "display_name": ".venv",
   "language": "python",
   "name": "python3"
  },
  "language_info": {
   "codemirror_mode": {
    "name": "ipython",
    "version": 3
   },
   "file_extension": ".py",
   "mimetype": "text/x-python",
   "name": "python",
   "nbconvert_exporter": "python",
   "pygments_lexer": "ipython3",
   "version": "3.12.4"
  }
 },
 "nbformat": 4,
 "nbformat_minor": 2
}
